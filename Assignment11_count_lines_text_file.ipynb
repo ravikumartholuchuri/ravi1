{
 "cells": [
  {
   "cell_type": "code",
   "execution_count": 2,
   "metadata": {},
   "outputs": [
    {
     "name": "stdout",
     "output_type": "stream",
     "text": [
      "This is the number of lines in the file\n",
      "3\n"
     ]
    }
   ],
   "source": [
    "file = open(\"test.txt\",\"r\") \n",
    "Counter = 0\n",
    "Content = file.read() \n",
    "CoList = Content.split(\"\\n\") \n",
    "for i in CoList: \n",
    "    if i: \n",
    "        Counter += 1\n",
    "print(\"This is the number of lines in the file\") \n",
    "print(Counter) "
   ]
  },
  {
   "cell_type": "code",
   "execution_count": null,
   "metadata": {},
   "outputs": [],
   "source": []
  }
 ],
 "metadata": {
  "kernelspec": {
   "display_name": "Python 3",
   "language": "python",
   "name": "python3"
  },
  "language_info": {
   "codemirror_mode": {
    "name": "ipython",
    "version": 3
   },
   "file_extension": ".py",
   "mimetype": "text/x-python",
   "name": "python",
   "nbconvert_exporter": "python",
   "pygments_lexer": "ipython3",
   "version": "3.8.3"
  }
 },
 "nbformat": 4,
 "nbformat_minor": 4
}
