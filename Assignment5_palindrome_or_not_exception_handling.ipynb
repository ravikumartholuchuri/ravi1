{
 "cells": [
  {
   "cell_type": "code",
   "execution_count": 39,
   "metadata": {},
   "outputs": [
    {
     "name": "stdout",
     "output_type": "stream",
     "text": [
      "enter the numbersam\n",
      "The input is not proper\n"
     ]
    }
   ],
   "source": [
    "num=input(\"enter the number\")\n",
    "try:    \n",
    "        temp=int(num)\n",
    "        rev=0\n",
    "        num1=int(num)\n",
    "        while(num1>0):\n",
    "            r=num1%10\n",
    "            rev=rev*10+r\n",
    "            num1=num1//10\n",
    "        if temp==rev:\n",
    "            print(\"The number is a palindrome\")\n",
    "        else:\n",
    "            print(\"The number is not a palindrome\")\n",
    "except ValueError:\n",
    "    print(\"The input is not proper\")\n",
    "\n",
    "        \n",
    "\n"
   ]
  },
  {
   "cell_type": "code",
   "execution_count": null,
   "metadata": {},
   "outputs": [],
   "source": []
  },
  {
   "cell_type": "code",
   "execution_count": null,
   "metadata": {},
   "outputs": [],
   "source": []
  }
 ],
 "metadata": {
  "kernelspec": {
   "display_name": "Python 3",
   "language": "python",
   "name": "python3"
  },
  "language_info": {
   "codemirror_mode": {
    "name": "ipython",
    "version": 3
   },
   "file_extension": ".py",
   "mimetype": "text/x-python",
   "name": "python",
   "nbconvert_exporter": "python",
   "pygments_lexer": "ipython3",
   "version": "3.8.3"
  }
 },
 "nbformat": 4,
 "nbformat_minor": 4
}
