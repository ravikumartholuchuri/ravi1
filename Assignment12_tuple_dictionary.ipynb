{
 "cells": [
  {
   "cell_type": "code",
   "execution_count": 1,
   "metadata": {},
   "outputs": [
    {
     "name": "stdout",
     "output_type": "stream",
     "text": [
      "The original key tuple is : ('GFG', 'is', 'best')\n",
      "The original value tuple is : (1, 2, 3)\n",
      "Dictionary constructed from tuples : {'GFG': 1, 'is': 2, 'best': 3}\n"
     ]
    }
   ],
   "source": [
    "test_tup1 = ('GFG', 'is', 'best') \n",
    "test_tup2 = (1, 2, 3)  \n",
    "print(\"The original key tuple is : \" + str(test_tup1)) \n",
    "print(\"The original value tuple is : \" + str(test_tup2)) \n",
    "res = {test_tup1[i] : test_tup2[i] for i, _ in enumerate(test_tup2)} \n",
    "print(\"Dictionary constructed from tuples : \" + str(res)) "
   ]
  },
  {
   "cell_type": "code",
   "execution_count": null,
   "metadata": {},
   "outputs": [],
   "source": []
  }
 ],
 "metadata": {
  "kernelspec": {
   "display_name": "Python 3",
   "language": "python",
   "name": "python3"
  },
  "language_info": {
   "codemirror_mode": {
    "name": "ipython",
    "version": 3
   },
   "file_extension": ".py",
   "mimetype": "text/x-python",
   "name": "python",
   "nbconvert_exporter": "python",
   "pygments_lexer": "ipython3",
   "version": "3.8.3"
  }
 },
 "nbformat": 4,
 "nbformat_minor": 4
}
