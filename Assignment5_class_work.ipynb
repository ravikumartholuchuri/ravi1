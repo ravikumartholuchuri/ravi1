{
 "cells": [
  {
   "cell_type": "code",
   "execution_count": 4,
   "metadata": {},
   "outputs": [
    {
     "name": "stdout",
     "output_type": "stream",
     "text": [
      "enter the number of hours50\n",
      "enter salary50000\n",
      "50001.5\n"
     ]
    }
   ],
   "source": [
    "hr=int(input(\"enter the number of hours\"))\n",
    "x=int(input(\"enter salary\"))\n",
    "try:\n",
    "    if hr<=40 and hr>0:\n",
    "        print(x)\n",
    "    elif hr>40:\n",
    "        salary=x+(hr-40)*1.5*0.1\n",
    "        print(salary)\n",
    "    else:\n",
    "        raise ValueError\n",
    "except ValueError:\n",
    "    print(\"please enter correct number of hours\")\n",
    "        "
   ]
  },
  {
   "cell_type": "code",
   "execution_count": null,
   "metadata": {},
   "outputs": [],
   "source": []
  }
 ],
 "metadata": {
  "kernelspec": {
   "display_name": "Python 3",
   "language": "python",
   "name": "python3"
  },
  "language_info": {
   "codemirror_mode": {
    "name": "ipython",
    "version": 3
   },
   "file_extension": ".py",
   "mimetype": "text/x-python",
   "name": "python",
   "nbconvert_exporter": "python",
   "pygments_lexer": "ipython3",
   "version": "3.8.3"
  }
 },
 "nbformat": 4,
 "nbformat_minor": 4
}
