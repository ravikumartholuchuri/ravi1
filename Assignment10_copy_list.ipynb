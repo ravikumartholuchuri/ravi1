{
 "cells": [
  {
   "cell_type": "code",
   "execution_count": 3,
   "metadata": {},
   "outputs": [
    {
     "name": "stdout",
     "output_type": "stream",
     "text": [
      "Original List: [84, 18, 21, 10, 15, 18]\n",
      "After Cloning: [84, 18, 21, 10, 15, 18]\n"
     ]
    }
   ],
   "source": [
    "def Cloning(li1): \n",
    "    li_copy = li1[:] \n",
    "    return li_copy  \n",
    "li1 = [84, 18, 21, 10, 15, 18] \n",
    "li2 = Cloning(li1) \n",
    "print(\"Original List:\", li1) \n",
    "print(\"After Cloning:\", li2) \n"
   ]
  },
  {
   "cell_type": "code",
   "execution_count": null,
   "metadata": {},
   "outputs": [],
   "source": []
  }
 ],
 "metadata": {
  "kernelspec": {
   "display_name": "Python 3",
   "language": "python",
   "name": "python3"
  },
  "language_info": {
   "codemirror_mode": {
    "name": "ipython",
    "version": 3
   },
   "file_extension": ".py",
   "mimetype": "text/x-python",
   "name": "python",
   "nbconvert_exporter": "python",
   "pygments_lexer": "ipython3",
   "version": "3.8.3"
  }
 },
 "nbformat": 4,
 "nbformat_minor": 4
}
