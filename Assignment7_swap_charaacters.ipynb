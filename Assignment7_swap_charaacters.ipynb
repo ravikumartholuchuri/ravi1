{
 "cells": [
  {
   "cell_type": "code",
   "execution_count": 3,
   "metadata": {},
   "outputs": [
    {
     "name": "stdout",
     "output_type": "stream",
     "text": [
      "enter a stringjohn\n",
      "enter second stringkavya\n",
      "ojhn akvya\n"
     ]
    }
   ],
   "source": [
    "str1=input(\"enter a string\")\n",
    "str2=input(\"enter second string\")\n",
    "a=str1[1]\n",
    "b=str1[0]\n",
    "c=str1[2:]\n",
    "d=str2[1]\n",
    "e=str2[0]\n",
    "f=str2[2:]\n",
    "result=a+b+c+\" \"+d+e+f\n",
    "print(result)\n"
   ]
  },
  {
   "cell_type": "code",
   "execution_count": null,
   "metadata": {},
   "outputs": [],
   "source": []
  }
 ],
 "metadata": {
  "kernelspec": {
   "display_name": "Python 3",
   "language": "python",
   "name": "python3"
  },
  "language_info": {
   "codemirror_mode": {
    "name": "ipython",
    "version": 3
   },
   "file_extension": ".py",
   "mimetype": "text/x-python",
   "name": "python",
   "nbconvert_exporter": "python",
   "pygments_lexer": "ipython3",
   "version": "3.8.3"
  }
 },
 "nbformat": 4,
 "nbformat_minor": 4
}
