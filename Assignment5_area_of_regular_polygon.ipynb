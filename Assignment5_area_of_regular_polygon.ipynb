{
 "cells": [
  {
   "cell_type": "code",
   "execution_count": 2,
   "metadata": {},
   "outputs": [
    {
     "name": "stdout",
     "output_type": "stream",
     "text": [
      "Input number of sides: 4\n",
      "Input the length of a side: 20\n",
      "The area of the polygon is:  400.00000000000006\n"
     ]
    }
   ],
   "source": [
    "from math import tan, pi\n",
    "n_sides = int(input(\"Input number of sides: \"))\n",
    "s_length = float(input(\"Input the length of a side: \"))\n",
    "p_area = n_sides * (s_length ** 2) / (4 * tan(pi / n_sides))\n",
    "print(\"The area of the polygon is: \",p_area)"
   ]
  },
  {
   "cell_type": "code",
   "execution_count": null,
   "metadata": {},
   "outputs": [],
   "source": []
  }
 ],
 "metadata": {
  "kernelspec": {
   "display_name": "Python 3",
   "language": "python",
   "name": "python3"
  },
  "language_info": {
   "codemirror_mode": {
    "name": "ipython",
    "version": 3
   },
   "file_extension": ".py",
   "mimetype": "text/x-python",
   "name": "python",
   "nbconvert_exporter": "python",
   "pygments_lexer": "ipython3",
   "version": "3.8.3"
  }
 },
 "nbformat": 4,
 "nbformat_minor": 4
}
