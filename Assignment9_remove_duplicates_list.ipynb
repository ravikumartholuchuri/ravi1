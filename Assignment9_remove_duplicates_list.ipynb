{
 "cells": [
  {
   "cell_type": "code",
   "execution_count": 3,
   "metadata": {},
   "outputs": [
    {
     "name": "stdout",
     "output_type": "stream",
     "text": [
      "enter the number of elements in the list5\n",
      "enter the element12\n",
      "enter the element56\n",
      "enter the element98\n",
      "enter the element12\n",
      "enter the element76\n",
      "[12, 56, 98, 76]\n"
     ]
    }
   ],
   "source": [
    "n=int(input(\"enter the number of elements in the list\"))\n",
    "lst=[]\n",
    "for i in range(0, n): \n",
    "    ele = int(input(\"enter the element\"))\n",
    "    lst.append(ele)\n",
    "mylist=[]\n",
    "for item in lst:\n",
    "    if item not in mylist:\n",
    "        mylist.append(item)\n",
    "print(mylist)"
   ]
  },
  {
   "cell_type": "code",
   "execution_count": null,
   "metadata": {},
   "outputs": [],
   "source": []
  },
  {
   "cell_type": "code",
   "execution_count": null,
   "metadata": {},
   "outputs": [],
   "source": []
  }
 ],
 "metadata": {
  "kernelspec": {
   "display_name": "Python 3",
   "language": "python",
   "name": "python3"
  },
  "language_info": {
   "codemirror_mode": {
    "name": "ipython",
    "version": 3
   },
   "file_extension": ".py",
   "mimetype": "text/x-python",
   "name": "python",
   "nbconvert_exporter": "python",
   "pygments_lexer": "ipython3",
   "version": "3.8.3"
  }
 },
 "nbformat": 4,
 "nbformat_minor": 4
}
