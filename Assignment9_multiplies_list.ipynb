{
 "cells": [
  {
   "cell_type": "code",
   "execution_count": 3,
   "metadata": {},
   "outputs": [
    {
     "name": "stdout",
     "output_type": "stream",
     "text": [
      "enter the number of elements in the list5\n",
      "enter the element\"gitam\"\n",
      "enter the element26\n",
      "enter the element4\n",
      "enter the element\"cse\"\n",
      "enter the element6\n",
      "['\"gitam\"', '26', '4', '\"cse\"', '6', '\"gitam\"', '26', '4', '\"cse\"', '6', '\"gitam\"', '26', '4', '\"cse\"', '6', '\"gitam\"', '26', '4', '\"cse\"', '6']\n"
     ]
    }
   ],
   "source": [
    "n=int(input(\"enter the number of elements in the list\"))\n",
    "lst=[]\n",
    "for i in range(0, n): \n",
    "    ele = input(\"enter the element\") \n",
    "    lst.append(ele)\n",
    "print(lst*4)"
   ]
  },
  {
   "cell_type": "code",
   "execution_count": null,
   "metadata": {},
   "outputs": [],
   "source": []
  },
  {
   "cell_type": "code",
   "execution_count": null,
   "metadata": {},
   "outputs": [],
   "source": []
  }
 ],
 "metadata": {
  "kernelspec": {
   "display_name": "Python 3",
   "language": "python",
   "name": "python3"
  },
  "language_info": {
   "codemirror_mode": {
    "name": "ipython",
    "version": 3
   },
   "file_extension": ".py",
   "mimetype": "text/x-python",
   "name": "python",
   "nbconvert_exporter": "python",
   "pygments_lexer": "ipython3",
   "version": "3.8.3"
  }
 },
 "nbformat": 4,
 "nbformat_minor": 4
}
