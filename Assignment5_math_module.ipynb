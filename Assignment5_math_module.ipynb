{
 "cells": [
  {
   "cell_type": "code",
   "execution_count": 22,
   "metadata": {},
   "outputs": [
    {
     "name": "stdout",
     "output_type": "stream",
     "text": [
      "0.8660254037844386\n",
      "-1.0\n",
      "1.633123935319537e+16\n",
      "1.0471975511965976\n",
      "390625.0\n",
      "20.0\n",
      "79.43235916621322\n",
      "10.0\n",
      "3.0102999566398116\n",
      "23 and 24\n"
     ]
    }
   ],
   "source": [
    "import math\n",
    "print(math.sin(math.pi/3))\n",
    "print(math.cos(math.pi))\n",
    "print(math.tan(math.pi/2))\n",
    "print(math.asin(0.8660254037844386))\n",
    "print(math.pow(5,8))\n",
    "print(math.sqrt(400))\n",
    "print(math.pow(5,math.e))\n",
    "print(math.log(1024)/math.log(2))\n",
    "print(math.log(1024)/math.log(10))\n",
    "print(math.floor(23.56),\"and\",math.ceil(23.56))"
   ]
  },
  {
   "cell_type": "code",
   "execution_count": null,
   "metadata": {},
   "outputs": [],
   "source": []
  },
  {
   "cell_type": "code",
   "execution_count": null,
   "metadata": {},
   "outputs": [],
   "source": []
  }
 ],
 "metadata": {
  "kernelspec": {
   "display_name": "Python 3",
   "language": "python",
   "name": "python3"
  },
  "language_info": {
   "codemirror_mode": {
    "name": "ipython",
    "version": 3
   },
   "file_extension": ".py",
   "mimetype": "text/x-python",
   "name": "python",
   "nbconvert_exporter": "python",
   "pygments_lexer": "ipython3",
   "version": "3.8.3"
  }
 },
 "nbformat": 4,
 "nbformat_minor": 4
}
