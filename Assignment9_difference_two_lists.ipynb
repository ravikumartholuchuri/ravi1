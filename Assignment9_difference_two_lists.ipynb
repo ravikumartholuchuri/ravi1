{
 "cells": [
  {
   "cell_type": "code",
   "execution_count": 1,
   "metadata": {},
   "outputs": [
    {
     "name": "stdout",
     "output_type": "stream",
     "text": [
      "enter the number of elements in the list15\n",
      "enter the element11\n",
      "enter the element22\n",
      "enter the element33\n",
      "enter the element44\n",
      "enter the element55\n",
      "enter the number of elements in the list25\n",
      "enter the element44\n",
      "enter the element55\n",
      "enter the element96\n",
      "enter the element87\n",
      "enter the element32\n",
      "[33, 11, 22]\n"
     ]
    }
   ],
   "source": [
    "def Diff(li1, li2): \n",
    "    return (list(set(li1) - set(li2)))  \n",
    "n=int(input(\"enter the number of elements in the list1\"))\n",
    "li1=[]\n",
    "for i in range(0, n): \n",
    "    ele = int(input(\"enter the element\"))\n",
    "    li1.append(ele)\n",
    "n=int(input(\"enter the number of elements in the list2\"))\n",
    "li2=[]\n",
    "for i in range(0, n): \n",
    "    ele = int(input(\"enter the element\"))\n",
    "    li2.append(ele)\n",
    "print(Diff(li1, li2)) "
   ]
  },
  {
   "cell_type": "code",
   "execution_count": null,
   "metadata": {},
   "outputs": [],
   "source": []
  }
 ],
 "metadata": {
  "kernelspec": {
   "display_name": "Python 3",
   "language": "python",
   "name": "python3"
  },
  "language_info": {
   "codemirror_mode": {
    "name": "ipython",
    "version": 3
   },
   "file_extension": ".py",
   "mimetype": "text/x-python",
   "name": "python",
   "nbconvert_exporter": "python",
   "pygments_lexer": "ipython3",
   "version": "3.8.3"
  }
 },
 "nbformat": 4,
 "nbformat_minor": 4
}
