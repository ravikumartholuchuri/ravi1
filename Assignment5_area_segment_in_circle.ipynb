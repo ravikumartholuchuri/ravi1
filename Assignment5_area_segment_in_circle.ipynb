{
 "cells": [
  {
   "cell_type": "code",
   "execution_count": 1,
   "metadata": {},
   "outputs": [
    {
     "name": "stdout",
     "output_type": "stream",
     "text": [
      "enter the value of r4\n",
      "enter angle45\n",
      "area is 6.283185307179586\n"
     ]
    }
   ],
   "source": [
    "import math\n",
    "r=int(input(\"enter the value of r\"))\n",
    "angle=float(input(\"enter angle\"))\n",
    "if angle>=360:\n",
    "    print(\"angle not possible\")\n",
    "area=(math.pi*r**2)*(angle/360)\n",
    "print(\"area is\",area)"
   ]
  },
  {
   "cell_type": "code",
   "execution_count": null,
   "metadata": {},
   "outputs": [],
   "source": []
  }
 ],
 "metadata": {
  "kernelspec": {
   "display_name": "Python 3",
   "language": "python",
   "name": "python3"
  },
  "language_info": {
   "codemirror_mode": {
    "name": "ipython",
    "version": 3
   },
   "file_extension": ".py",
   "mimetype": "text/x-python",
   "name": "python",
   "nbconvert_exporter": "python",
   "pygments_lexer": "ipython3",
   "version": "3.8.3"
  }
 },
 "nbformat": 4,
 "nbformat_minor": 4
}
